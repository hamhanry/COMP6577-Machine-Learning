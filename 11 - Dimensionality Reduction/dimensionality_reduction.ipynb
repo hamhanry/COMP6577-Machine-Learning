{
 "cells": [
  {
   "cell_type": "code",
   "execution_count": 1,
   "metadata": {},
   "outputs": [],
   "source": [
    "import numpy as np\n",
    "import pandas as pd\n",
    "import matplotlib.pyplot as plt\n",
    "import seaborn as sns\n",
    "from sklearn.datasets import load_iris\n",
    "from sklearn.preprocessing import StandardScaler\n",
    "from sklearn.decomposition import PCA\n",
    "from sklearn.discriminant_analysis import LinearDiscriminantAnalysis"
   ]
  },
  {
   "cell_type": "code",
   "execution_count": 2,
   "metadata": {},
   "outputs": [],
   "source": [
    "def print_section(title):\n",
    "    \"\"\"Helper function to print section titles\"\"\"\n",
    "    print(\"\\n\" + \"=\"*80)\n",
    "    print(title)\n",
    "    print(\"=\"*80)\n",
    "\n",
    "def load_and_prepare_data():\n",
    "    \"\"\"Load and prepare the Iris dataset\"\"\"\n",
    "    print_section(\"1. Loading and Preparing the Data\")\n",
    "    \n",
    "    # Load the Iris dataset\n",
    "    iris = load_iris()\n",
    "    X = iris.data\n",
    "    y = iris.target\n",
    "    feature_names = iris.feature_names\n",
    "    target_names = iris.target_names\n",
    "    \n",
    "    # Create a DataFrame for better visualization\n",
    "    df = pd.DataFrame(X, columns=feature_names)\n",
    "    df['target'] = y\n",
    "    df['target_name'] = [target_names[i] for i in y]\n",
    "    \n",
    "    print(\"Dataset Shape:\", X.shape)\n",
    "    print(\"\\nFirst few rows of the dataset:\")\n",
    "    print(df.head())\n",
    "    \n",
    "    return X, y, feature_names, target_names, df\n",
    "\n",
    "def load_and_prepare_data():\n",
    "    \"\"\"Load and prepare the Iris dataset\"\"\"\n",
    "    print_section(\"1. Loading and Preparing the Data\")\n",
    "    \n",
    "    # Load the Iris dataset\n",
    "    iris = load_iris()\n",
    "    X = iris.data\n",
    "    y = iris.target\n",
    "    feature_names = iris.feature_names\n",
    "    target_names = iris.target_names\n",
    "    \n",
    "    # Create a DataFrame for better visualization\n",
    "    df = pd.DataFrame(X, columns=feature_names)\n",
    "    df['target'] = y\n",
    "    df['target_name'] = [target_names[i] for i in y]\n",
    "    \n",
    "    print(\"Dataset Shape:\", X.shape)\n",
    "    print(\"\\nFirst few rows of the dataset:\")\n",
    "    print(df.head())\n",
    "    \n",
    "    return X, y, feature_names, target_names, df\n",
    "\n",
    "def visualize_original_data(df):\n",
    "    \"\"\"Create pair plot of the original data\"\"\"\n",
    "    print_section(\"2. Visualizing Original Data\")\n",
    "    print(\"Creating pair plot to show relationships between features...\")\n",
    "    \n",
    "    plt.figure(figsize=(12, 8))\n",
    "    sns.pairplot(df, hue='target_name', diag_kind='hist')\n",
    "    plt.savefig('pair_plot.png')\n",
    "    plt.close()\n",
    "    print(\"Pair plot saved as 'pair_plot.png'\")\n",
    "\n",
    "def perform_pca(X, y, target_names):\n",
    "    \"\"\"Perform PCA and visualize results\"\"\"\n",
    "    print_section(\"3. Principal Component Analysis (PCA)\")\n",
    "    \n",
    "    # Standardize the data\n",
    "    scaler = StandardScaler()\n",
    "    X_scaled = scaler.fit_transform(X)\n",
    "    \n",
    "    # Apply PCA\n",
    "    pca = PCA()\n",
    "    X_pca = pca.fit_transform(X_scaled)\n",
    "    \n",
    "    # Calculate explained variance ratio\n",
    "    explained_variance_ratio = pca.explained_variance_ratio_\n",
    "    cumulative_variance_ratio = np.cumsum(explained_variance_ratio)\n",
    "    \n",
    "    # Plot explained variance ratio\n",
    "    plt.figure(figsize=(10, 6))\n",
    "    plt.bar(range(1, len(explained_variance_ratio) + 1), explained_variance_ratio, alpha=0.5, align='center')\n",
    "    plt.step(range(1, len(cumulative_variance_ratio) + 1), cumulative_variance_ratio, where='mid')\n",
    "    plt.ylabel('Explained variance ratio')\n",
    "    plt.xlabel('Principal components')\n",
    "    plt.title('Explained Variance Ratio by Principal Components')\n",
    "    plt.savefig('pca_variance_ratio.png')\n",
    "    plt.close()\n",
    "    \n",
    "    # Print explained variance ratio\n",
    "    print(\"Explained variance ratio by component:\")\n",
    "    for i, ratio in enumerate(explained_variance_ratio):\n",
    "        print(f\"PC{i+1}: {ratio:.3f}\")\n",
    "    print(f\"\\nTotal variance explained by first 2 components: {cumulative_variance_ratio[1]:.3f}\")\n",
    "    \n",
    "    # Visualize PCA results in 2D\n",
    "    plt.figure(figsize=(10, 8))\n",
    "    for i, target_name in enumerate(target_names):\n",
    "        plt.scatter(X_pca[y == i, 0], X_pca[y == i, 1], label=target_name)\n",
    "    plt.xlabel('First Principal Component')\n",
    "    plt.ylabel('Second Principal Component')\n",
    "    plt.title('PCA of Iris Dataset')\n",
    "    plt.legend()\n",
    "    plt.savefig('pca_2d_plot.png')\n",
    "    plt.close()\n",
    "    \n",
    "    return X_scaled, X_pca\n",
    "\n",
    "def perform_lda(X_scaled, y, target_names):\n",
    "    \"\"\"Perform LDA and visualize results\"\"\"\n",
    "    print_section(\"4. Linear Discriminant Analysis (LDA)\")\n",
    "    \n",
    "    # Apply LDA\n",
    "    lda = LinearDiscriminantAnalysis(n_components=2)\n",
    "    X_lda = lda.fit_transform(X_scaled, y)\n",
    "    \n",
    "    # Visualize LDA results\n",
    "    plt.figure(figsize=(10, 8))\n",
    "    for i, target_name in enumerate(target_names):\n",
    "        plt.scatter(X_lda[y == i, 0], X_lda[y == i, 1], label=target_name)\n",
    "    plt.xlabel('First Linear Discriminant')\n",
    "    plt.ylabel('Second Linear Discriminant')\n",
    "    plt.title('LDA of Iris Dataset')\n",
    "    plt.legend()\n",
    "    plt.savefig('lda_2d_plot.png')\n",
    "    plt.close()\n",
    "    \n",
    "    return X_lda\n",
    "\n",
    "def compare_methods(X_pca, X_lda, y, target_names):\n",
    "    \"\"\"Compare PCA and LDA results\"\"\"\n",
    "    print_section(\"5. Comparison of PCA and LDA\")\n",
    "    \n",
    "    # Create subplots for comparison\n",
    "    fig, (ax1, ax2) = plt.subplots(1, 2, figsize=(15, 6))\n",
    "    \n",
    "    # Plot PCA results\n",
    "    for i, target_name in enumerate(target_names):\n",
    "        ax1.scatter(X_pca[y == i, 0], X_pca[y == i, 1], label=target_name)\n",
    "    ax1.set_xlabel('First Principal Component')\n",
    "    ax1.set_ylabel('Second Principal Component')\n",
    "    ax1.set_title('PCA')\n",
    "    ax1.legend()\n",
    "    \n",
    "    # Plot LDA results\n",
    "    for i, target_name in enumerate(target_names):\n",
    "        ax2.scatter(X_lda[y == i, 0], X_lda[y == i, 1], label=target_name)\n",
    "    ax2.set_xlabel('First Linear Discriminant')\n",
    "    ax2.set_ylabel('Second Linear Discriminant')\n",
    "    ax2.set_title('LDA')\n",
    "    ax2.legend()\n",
    "    \n",
    "    plt.tight_layout()\n",
    "    plt.savefig('comparison_plot.png')\n",
    "    plt.close()"
   ]
  },
  {
   "cell_type": "markdown",
   "metadata": {},
   "source": [
    "## Load and prepare data"
   ]
  },
  {
   "cell_type": "code",
   "execution_count": 3,
   "metadata": {},
   "outputs": [
    {
     "name": "stdout",
     "output_type": "stream",
     "text": [
      "\n",
      "================================================================================\n",
      "1. Loading and Preparing the Data\n",
      "================================================================================\n",
      "Dataset Shape: (150, 4)\n",
      "\n",
      "First few rows of the dataset:\n",
      "   sepal length (cm)  sepal width (cm)  petal length (cm)  petal width (cm)  \\\n",
      "0                5.1               3.5                1.4               0.2   \n",
      "1                4.9               3.0                1.4               0.2   \n",
      "2                4.7               3.2                1.3               0.2   \n",
      "3                4.6               3.1                1.5               0.2   \n",
      "4                5.0               3.6                1.4               0.2   \n",
      "\n",
      "   target target_name  \n",
      "0       0      setosa  \n",
      "1       0      setosa  \n",
      "2       0      setosa  \n",
      "3       0      setosa  \n",
      "4       0      setosa  \n"
     ]
    }
   ],
   "source": [
    "X, y, feature_names, target_names, df = load_and_prepare_data()\n",
    "    \n",
    "    "
   ]
  },
  {
   "cell_type": "markdown",
   "metadata": {},
   "source": [
    "## Visualize original data"
   ]
  },
  {
   "cell_type": "code",
   "execution_count": 4,
   "metadata": {},
   "outputs": [
    {
     "name": "stdout",
     "output_type": "stream",
     "text": [
      "\n",
      "================================================================================\n",
      "2. Visualizing Original Data\n",
      "================================================================================\n",
      "Creating pair plot to show relationships between features...\n"
     ]
    },
    {
     "name": "stderr",
     "output_type": "stream",
     "text": [
      "/home/ham/anaconda3/lib/python3.11/site-packages/seaborn/axisgrid.py:118: UserWarning: The figure layout has changed to tight\n",
      "  self._figure.tight_layout(*args, **kwargs)\n"
     ]
    },
    {
     "name": "stdout",
     "output_type": "stream",
     "text": [
      "Pair plot saved as 'pair_plot.png'\n"
     ]
    },
    {
     "data": {
      "text/plain": [
       "<Figure size 1200x800 with 0 Axes>"
      ]
     },
     "metadata": {},
     "output_type": "display_data"
    }
   ],
   "source": [
    "visualize_original_data(df)"
   ]
  },
  {
   "cell_type": "markdown",
   "metadata": {},
   "source": [
    "## Perform PCA"
   ]
  },
  {
   "cell_type": "code",
   "execution_count": 5,
   "metadata": {},
   "outputs": [
    {
     "name": "stdout",
     "output_type": "stream",
     "text": [
      "\n",
      "================================================================================\n",
      "3. Principal Component Analysis (PCA)\n",
      "================================================================================\n",
      "Explained variance ratio by component:\n",
      "PC1: 0.730\n",
      "PC2: 0.229\n",
      "PC3: 0.037\n",
      "PC4: 0.005\n",
      "\n",
      "Total variance explained by first 2 components: 0.958\n"
     ]
    }
   ],
   "source": [
    "X_scaled, X_pca = perform_pca(X, y, target_names)\n"
   ]
  },
  {
   "cell_type": "markdown",
   "metadata": {},
   "source": [
    "## Perform LDA"
   ]
  },
  {
   "cell_type": "code",
   "execution_count": 6,
   "metadata": {},
   "outputs": [
    {
     "name": "stdout",
     "output_type": "stream",
     "text": [
      "\n",
      "================================================================================\n",
      "4. Linear Discriminant Analysis (LDA)\n",
      "================================================================================\n"
     ]
    }
   ],
   "source": [
    "X_lda = perform_lda(X_scaled, y, target_names)"
   ]
  },
  {
   "cell_type": "markdown",
   "metadata": {},
   "source": [
    "## Compare methods"
   ]
  },
  {
   "cell_type": "code",
   "execution_count": 7,
   "metadata": {},
   "outputs": [
    {
     "name": "stdout",
     "output_type": "stream",
     "text": [
      "\n",
      "================================================================================\n",
      "5. Comparison of PCA and LDA\n",
      "================================================================================\n"
     ]
    }
   ],
   "source": [
    "compare_methods(X_pca, X_lda, y, target_names)"
   ]
  }
 ],
 "metadata": {
  "kernelspec": {
   "display_name": "base",
   "language": "python",
   "name": "python3"
  },
  "language_info": {
   "codemirror_mode": {
    "name": "ipython",
    "version": 3
   },
   "file_extension": ".py",
   "mimetype": "text/x-python",
   "name": "python",
   "nbconvert_exporter": "python",
   "pygments_lexer": "ipython3",
   "version": "3.11.8"
  }
 },
 "nbformat": 4,
 "nbformat_minor": 2
}
