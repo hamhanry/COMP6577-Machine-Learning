{
 "cells": [
  {
   "cell_type": "markdown",
   "metadata": {},
   "source": [
    "## DATAFRAME"
   ]
  },
  {
   "cell_type": "code",
   "execution_count": 1,
   "metadata": {},
   "outputs": [
    {
     "name": "stdout",
     "output_type": "stream",
     "text": [
      "      Item Name  Qty  Price\n",
      "0  Bakmi Effata   10  10000\n",
      "1   Nasi Hainam    2   5000\n",
      "2      Bola Ubi    3   7000\n"
     ]
    }
   ],
   "source": [
    "import pandas as pd\n",
    "df = {\"Item Name\": [\"Bakmi Effata\", \"Nasi Hainam\", \"Bola Ubi\"], \n",
    "     \"Qty\": [10, 2, 3] , \n",
    "     \"Price\": [10000, 5000, 7000]}\n",
    "data = pd.DataFrame(df)\n",
    "print(data)"
   ]
  },
  {
   "cell_type": "code",
   "execution_count": 2,
   "metadata": {},
   "outputs": [
    {
     "name": "stdout",
     "output_type": "stream",
     "text": [
      "      Item Name  Qty  Price  TotalPrice1  TotalPrice2\n",
      "0  Bakmi Effata   10  10000       100000       100000\n",
      "1   Nasi Hainam    2   5000        10000        10000\n",
      "2      Bola Ubi    3   7000        21000        21000\n"
     ]
    }
   ],
   "source": [
    "totalPrice1 = pd.Series([])\n",
    "totalPrice2 = pd.Series([])\n",
    "\n",
    "for i in range(len(data)):\n",
    "  totalPrice1[i] = data[\"Qty\"][i] * data[\"Price\"][i] \n",
    "\n",
    "totalPrice2 = data[\"Qty\"] * data[\"Price\"]\n",
    "\n",
    "data.insert(3, \"TotalPrice1\", totalPrice1)\n",
    "data.insert(4, \"TotalPrice2\", totalPrice2)\n",
    "print(data)"
   ]
  },
  {
   "cell_type": "code",
   "execution_count": 3,
   "metadata": {},
   "outputs": [
    {
     "name": "stdout",
     "output_type": "stream",
     "text": [
      "- Maximum -\n",
      "\n",
      "All data: \n",
      " Item Name      Nasi Hainam\n",
      "Qty                     10\n",
      "Price                10000\n",
      "TotalPrice1         100000\n",
      "TotalPrice2         100000\n",
      "dtype: object\n",
      "Qty:  10\n",
      "Price:  10000\n",
      "Total Price:  100000\n",
      "\n",
      "- Minimum -\n",
      "\n",
      "All data: \n",
      " Item Name      Bakmi Effata\n",
      "Qty                       2\n",
      "Price                  5000\n",
      "TotalPrice1           10000\n",
      "TotalPrice2           10000\n",
      "dtype: object\n",
      "Qty:  2\n",
      "Price:  5000\n",
      "Total Price:  10000\n",
      "\n",
      "- Summary -\n",
      "\n",
      "All data: \n",
      " Item Name      Bakmi EffataNasi HainamBola Ubi\n",
      "Qty                                         15\n",
      "Price                                    22000\n",
      "TotalPrice1                             131000\n",
      "TotalPrice2                             131000\n",
      "dtype: object\n",
      "Qty:  15\n",
      "Price:  22000\n",
      "Total Price:  131000\n"
     ]
    }
   ],
   "source": [
    "maxValue = data.max()\n",
    "print(\"- Maximum -\\n\")\n",
    "print(\"All data: \\n\", maxValue)\n",
    "print(\"Qty: \", maxValue[\"Qty\"])\n",
    "print(\"Price: \", maxValue[\"Price\"])\n",
    "print(\"Total Price: \", maxValue[\"TotalPrice1\"])\n",
    "\n",
    "minValue = data.min()\n",
    "print(\"\\n- Minimum -\\n\")\n",
    "print(\"All data: \\n\", minValue)\n",
    "print(\"Qty: \", minValue[\"Qty\"])\n",
    "print(\"Price: \", minValue[\"Price\"])\n",
    "print(\"Total Price: \", minValue[\"TotalPrice1\"])\n",
    "\n",
    "sumValue = data.sum()\n",
    "print(\"\\n- Summary -\\n\")\n",
    "print(\"All data: \\n\", sumValue)\n",
    "print(\"Qty: \", sumValue[\"Qty\"])\n",
    "print(\"Price: \", sumValue[\"Price\"])\n",
    "print(\"Total Price: \", sumValue[\"TotalPrice1\"])"
   ]
  },
  {
   "cell_type": "code",
   "execution_count": 4,
   "metadata": {},
   "outputs": [
    {
     "data": {
      "text/html": [
       "<div>\n",
       "<style scoped>\n",
       "    .dataframe tbody tr th:only-of-type {\n",
       "        vertical-align: middle;\n",
       "    }\n",
       "\n",
       "    .dataframe tbody tr th {\n",
       "        vertical-align: top;\n",
       "    }\n",
       "\n",
       "    .dataframe thead th {\n",
       "        text-align: right;\n",
       "    }\n",
       "</style>\n",
       "<table border=\"1\" class=\"dataframe\">\n",
       "  <thead>\n",
       "    <tr style=\"text-align: right;\">\n",
       "      <th></th>\n",
       "      <th>5.1</th>\n",
       "      <th>3.5</th>\n",
       "      <th>1.4</th>\n",
       "      <th>0.2</th>\n",
       "      <th>Iris-setosa</th>\n",
       "    </tr>\n",
       "  </thead>\n",
       "  <tbody>\n",
       "    <tr>\n",
       "      <th>0</th>\n",
       "      <td>4.9</td>\n",
       "      <td>3.0</td>\n",
       "      <td>1.4</td>\n",
       "      <td>0.2</td>\n",
       "      <td>Iris-setosa</td>\n",
       "    </tr>\n",
       "    <tr>\n",
       "      <th>1</th>\n",
       "      <td>4.7</td>\n",
       "      <td>3.2</td>\n",
       "      <td>1.3</td>\n",
       "      <td>0.2</td>\n",
       "      <td>Iris-setosa</td>\n",
       "    </tr>\n",
       "    <tr>\n",
       "      <th>2</th>\n",
       "      <td>4.6</td>\n",
       "      <td>3.1</td>\n",
       "      <td>1.5</td>\n",
       "      <td>0.2</td>\n",
       "      <td>Iris-setosa</td>\n",
       "    </tr>\n",
       "    <tr>\n",
       "      <th>3</th>\n",
       "      <td>5.0</td>\n",
       "      <td>3.6</td>\n",
       "      <td>NaN</td>\n",
       "      <td>0.2</td>\n",
       "      <td>Iris-setosa</td>\n",
       "    </tr>\n",
       "    <tr>\n",
       "      <th>4</th>\n",
       "      <td>5.4</td>\n",
       "      <td>3.9</td>\n",
       "      <td>1.7</td>\n",
       "      <td>0.4</td>\n",
       "      <td>Iris-setosa</td>\n",
       "    </tr>\n",
       "  </tbody>\n",
       "</table>\n",
       "</div>"
      ],
      "text/plain": [
       "   5.1  3.5  1.4  0.2  Iris-setosa\n",
       "0  4.9  3.0  1.4  0.2  Iris-setosa\n",
       "1  4.7  3.2  1.3  0.2  Iris-setosa\n",
       "2  4.6  3.1  1.5  0.2  Iris-setosa\n",
       "3  5.0  3.6  NaN  0.2  Iris-setosa\n",
       "4  5.4  3.9  1.7  0.4  Iris-setosa"
      ]
     },
     "execution_count": 4,
     "metadata": {},
     "output_type": "execute_result"
    }
   ],
   "source": [
    "df = pd.read_csv(\"iris.csv\")\n",
    "df.head()"
   ]
  },
  {
   "cell_type": "code",
   "execution_count": 5,
   "metadata": {},
   "outputs": [
    {
     "data": {
      "text/html": [
       "<div>\n",
       "<style scoped>\n",
       "    .dataframe tbody tr th:only-of-type {\n",
       "        vertical-align: middle;\n",
       "    }\n",
       "\n",
       "    .dataframe tbody tr th {\n",
       "        vertical-align: top;\n",
       "    }\n",
       "\n",
       "    .dataframe thead th {\n",
       "        text-align: right;\n",
       "    }\n",
       "</style>\n",
       "<table border=\"1\" class=\"dataframe\">\n",
       "  <thead>\n",
       "    <tr style=\"text-align: right;\">\n",
       "      <th></th>\n",
       "      <th>SepalLength</th>\n",
       "      <th>SepalWidth</th>\n",
       "      <th>PetalLength</th>\n",
       "      <th>PetalWidth</th>\n",
       "      <th>Class</th>\n",
       "    </tr>\n",
       "  </thead>\n",
       "  <tbody>\n",
       "    <tr>\n",
       "      <th>0</th>\n",
       "      <td>5.1</td>\n",
       "      <td>3.5</td>\n",
       "      <td>1.4</td>\n",
       "      <td>0.2</td>\n",
       "      <td>Iris-setosa</td>\n",
       "    </tr>\n",
       "    <tr>\n",
       "      <th>1</th>\n",
       "      <td>4.9</td>\n",
       "      <td>3.0</td>\n",
       "      <td>1.4</td>\n",
       "      <td>0.2</td>\n",
       "      <td>Iris-setosa</td>\n",
       "    </tr>\n",
       "    <tr>\n",
       "      <th>2</th>\n",
       "      <td>4.7</td>\n",
       "      <td>3.2</td>\n",
       "      <td>1.3</td>\n",
       "      <td>0.2</td>\n",
       "      <td>Iris-setosa</td>\n",
       "    </tr>\n",
       "    <tr>\n",
       "      <th>3</th>\n",
       "      <td>4.6</td>\n",
       "      <td>3.1</td>\n",
       "      <td>1.5</td>\n",
       "      <td>0.2</td>\n",
       "      <td>Iris-setosa</td>\n",
       "    </tr>\n",
       "    <tr>\n",
       "      <th>4</th>\n",
       "      <td>5.0</td>\n",
       "      <td>3.6</td>\n",
       "      <td>NaN</td>\n",
       "      <td>0.2</td>\n",
       "      <td>Iris-setosa</td>\n",
       "    </tr>\n",
       "  </tbody>\n",
       "</table>\n",
       "</div>"
      ],
      "text/plain": [
       "   SepalLength  SepalWidth  PetalLength  PetalWidth        Class\n",
       "0          5.1         3.5          1.4         0.2  Iris-setosa\n",
       "1          4.9         3.0          1.4         0.2  Iris-setosa\n",
       "2          4.7         3.2          1.3         0.2  Iris-setosa\n",
       "3          4.6         3.1          1.5         0.2  Iris-setosa\n",
       "4          5.0         3.6          NaN         0.2  Iris-setosa"
      ]
     },
     "execution_count": 5,
     "metadata": {},
     "output_type": "execute_result"
    }
   ],
   "source": [
    "irisdf = pd.read_csv(\"iris.csv\", names=[\"SepalLength\", \"SepalWidth\", \"PetalLength\",\"PetalWidth\",\"Class\"])\n",
    "irisdf.head()"
   ]
  },
  {
   "cell_type": "code",
   "execution_count": 6,
   "metadata": {},
   "outputs": [
    {
     "name": "stdout",
     "output_type": "stream",
     "text": [
      "nan\n"
     ]
    }
   ],
   "source": [
    "print(irisdf[\"PetalLength\"][4] + irisdf[\"PetalWidth\"][4] )"
   ]
  },
  {
   "cell_type": "code",
   "execution_count": 7,
   "metadata": {},
   "outputs": [
    {
     "name": "stdout",
     "output_type": "stream",
     "text": [
      "True\n",
      "     SepalLength  SepalWidth  PetalLength  PetalWidth  Class\n",
      "0          False       False        False       False  False\n",
      "1          False       False        False       False  False\n",
      "2          False       False        False       False  False\n",
      "3          False       False        False       False  False\n",
      "4          False       False         True       False  False\n",
      "..           ...         ...          ...         ...    ...\n",
      "145        False       False        False       False  False\n",
      "146        False       False        False       False  False\n",
      "147        False       False        False        True  False\n",
      "148        False       False        False       False  False\n",
      "149        False       False        False       False  False\n",
      "\n",
      "[150 rows x 5 columns]\n",
      "SepalLength  :  False\n",
      "SepalWidth  :  False\n",
      "PetalLength  :  True\n",
      "PetalWidth  :  True\n",
      "Class  :  False\n"
     ]
    }
   ],
   "source": [
    "print(irisdf.isna().values.any())\n",
    "print(irisdf.isna())\n",
    "\n",
    "\n",
    "for i in irisdf :\n",
    "  print(i, \" : \", irisdf[i].isna().values.any())"
   ]
  },
  {
   "cell_type": "code",
   "execution_count": 8,
   "metadata": {},
   "outputs": [
    {
     "name": "stdout",
     "output_type": "stream",
     "text": [
      "146\n"
     ]
    }
   ],
   "source": [
    "irisdf_new = irisdf.dropna()\n",
    "print(len(irisdf_new))"
   ]
  },
  {
   "cell_type": "code",
   "execution_count": 9,
   "metadata": {},
   "outputs": [
    {
     "name": "stdout",
     "output_type": "stream",
     "text": [
      "False\n",
      "150\n"
     ]
    }
   ],
   "source": [
    "newIrisDataFill = irisdf.fillna(0)\n",
    "print(newIrisDataFill.isna().values.any())\n",
    "print(len(newIrisDataFill))"
   ]
  },
  {
   "cell_type": "code",
   "execution_count": 10,
   "metadata": {},
   "outputs": [
    {
     "data": {
      "text/plain": [
       "0      1.4\n",
       "1      1.4\n",
       "2      1.3\n",
       "3      1.5\n",
       "5      1.7\n",
       "      ... \n",
       "144    5.7\n",
       "145    5.2\n",
       "146    5.0\n",
       "148    5.4\n",
       "149    5.1\n",
       "Name: PetalLength, Length: 146, dtype: float64"
      ]
     },
     "execution_count": 10,
     "metadata": {},
     "output_type": "execute_result"
    }
   ],
   "source": [
    "meanPetalLength = irisdf_new[\"PetalLength\"].mean()\n",
    "irisdf_new[\"PetalLength\"].fillna(meanPetalLength)"
   ]
  }
 ],
 "metadata": {
  "kernelspec": {
   "display_name": "base",
   "language": "python",
   "name": "python3"
  },
  "language_info": {
   "codemirror_mode": {
    "name": "ipython",
    "version": 3
   },
   "file_extension": ".py",
   "mimetype": "text/x-python",
   "name": "python",
   "nbconvert_exporter": "python",
   "pygments_lexer": "ipython3",
   "version": "3.11.8"
  }
 },
 "nbformat": 4,
 "nbformat_minor": 2
}
